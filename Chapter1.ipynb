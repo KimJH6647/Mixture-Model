{
  "nbformat": 4,
  "nbformat_minor": 0,
  "metadata": {
    "colab": {
      "name": "Chapter1.ipynb",
      "provenance": [],
      "collapsed_sections": [],
      "authorship_tag": "ABX9TyODpQPEhLa9pO9PEsMwuylL"
    },
    "kernelspec": {
      "display_name": "Python 3",
      "name": "python3"
    }
  },
  "cells": [
    {
      "cell_type": "markdown",
      "metadata": {
        "id": "fdJazfP70YW1"
      },
      "source": [
        "#CHAPTER 1. Basic Definition\r\n",
        "\r\n",
        "## 1. Definition of Mixture Models\r\n",
        "\r\n",
        "- Mixture model: probability distributions that can account for a variety of features in the data including multi-modality and skewness. \r\n",
        "\r\n",
        "- The idea of mixture models: to take multiple probability distributions and put them together in some sense using a linear combination.\r\n",
        "\r\n",
        "- In a Mixture Model, All components don't have to belonging to the same family of distributions.\r\n",
        "\r\n",
        "<br>\r\n",
        "\r\n",
        "$$ F(x) = \\sum_{k=1}^{K} w_k G_k (x) $$\r\n",
        "$$ f(x) = \\sum_{k=1}^{K} w_k g_k (x) $$\r\n",
        "$$ , \\sum_{k=1}^{K} w_k = 1$$\r\n",
        "\r\n",
        "$$ \\Leftrightarrow $$\r\n",
        "\r\n",
        "$$ F(x) = \\sum_{k=1}^{K} w_k G (x| \\theta_k) $$\r\n",
        "$$ f(x) = \\sum_{k=1}^{K} w_k g (x| \\theta_k) $$\r\n",
        "$$ , \\sum_{k=1}^{K} w_k = 1$$\r\n",
        "\r\n",
        "<br>\r\n",
        "\r\n",
        "- where, $w_k$ is called weight and $k$ is called component. Also, $\\theta_k$ is paramters of each distributions.\r\n",
        "\r\n",
        "- Example: Mixture of Normals\r\n",
        "\r\n",
        "    1) Location Mixture of Normals\r\n",
        "<br>\r\n",
        "$$f(x) = \\sum_{k=1}^{K} w_k {1 \\over \\sqrt{2 \\pi} \\sigma} exp \\{ - {1 \\over 2 \\sigma^2} (x- \\mu_k)^2 \\}$$\r\n",
        "<br>\r\n",
        "    2) Location-Scale Mixture of Normals\r\n",
        "\r\n",
        "<br>\r\n",
        "$$f(x) = \\sum_{k=1}^{K} w_k {1 \\over \\sqrt{2 \\pi} \\sigma_k} exp \\{ - {1 \\over 2 \\sigma_k^2} (x- \\mu_k)^2 \\}$$\r\n",
        "<br>\r\n",
        "\r\n",
        "- Expectation of $X$\r\n",
        "\r\n",
        "$$E_X (X) = \\int_{-\\infty}^{\\infty} x f(x) dx $$ \r\n",
        "$$=\\int_{-\\infty}^{\\infty} x \\sum_{k=1}^{K} w_k g_k (x) dx $$\r\n",
        "$$=\\sum_{k=1}^{K} w_k \\int_{-\\infty}^{\\infty} x g_k (x) dx $$\r\n",
        "$$= \\sum_{k=1}^{K} w_k E_k (X)$$ \r\n",
        "\r\n",
        "- Moment Generate Function of $X$\r\n",
        "\r\n",
        "$$ M_X (t) = E_X (e^{tX}) = \\int_{-\\infty}^{\\infty} e^{xt} f(x) dx $$\r\n",
        "$$= \\int_{-\\infty}^{\\infty} e^{xt} \\sum_{k=1}^{K} w_k g_k (x) dx $$\r\n",
        "$$=\\sum_{k=1}^{K} w_k \\int_{-\\infty}^{\\infty} e^{xt} g_k (x) dx $$\r\n",
        "$$=\\sum_{k=1}^{K} w_k M_{X|k} (t)$$ \r\n",
        "\r\n",
        "- Variance of $X$\r\n",
        "\r\n",
        "$$E_X (X^2) = \\int_{-\\infty}^{\\infty} x^2 f(x) dx $$\r\n",
        "$$= \\int_{-\\infty}^{\\infty} x^2 \\sum_{k=1}^{K} w_k g_k (x) dx $$\r\n",
        "$$= \\sum_{k=1}^{K} w_k \\int_{-\\infty}^{\\infty} x^2 g_k (x) dx $$\r\n",
        "$$= \\sum_{k=1}^{K} w_k E_k (X^2)$$\r\n",
        "$$= \\sum_{k=1}^{K} w_k [Var_k (X) + (E_k (X))]^2 $$ \r\n",
        "\r\n",
        "$$\\Rightarrow$$\r\n",
        "\r\n",
        "\r\n",
        "$$Var_X(X) = E_X(X^2) - E_X (X)^2$$\r\n",
        "\r\n"
      ]
    },
    {
      "cell_type": "code",
      "metadata": {
        "id": "71vtUUhE0XZP"
      },
      "source": [
        "import numpy as np\r\n",
        "import matplotlib.pyplot as plt\r\n",
        "import seaborn as sns\r\n",
        "import scipy"
      ],
      "execution_count": null,
      "outputs": []
    },
    {
      "cell_type": "code",
      "metadata": {
        "id": "NcZBNqWYAH6L"
      },
      "source": [
        "N = 100\r\n",
        "sigma = 1\r\n",
        "mu = [1, 5]\r\n",
        "w = [0.4 , 0.6]\r\n",
        "\r\n",
        "plt.bar(mu, w)\r\n",
        "plt.title(r'$Q$', fontsize = 20)\r\n",
        "plt.xlabel(r'$\\mu$', fontsize = 15)\r\n",
        "plt.ylabel(r'$w$', fontsize = 15)\r\n",
        "plt.show()\r\n",
        "\r\n"
      ],
      "execution_count": null,
      "outputs": []
    },
    {
      "cell_type": "markdown",
      "metadata": {
        "id": "W9XrFu5Q07me"
      },
      "source": [
        "## 2. Likelihood Function for Mixture Models\r\n",
        "\r\n",
        "### 2.1 Hierarchical Representation\r\n",
        "\r\n",
        "- Hierarchical Representation provides a very nice interpretation for mixture models, and will be very useful in terms of computation because most algorithms that are used for estimating the parameters in a mixture model are going to rely on some version of this categorical representation\r\n",
        "\r\n",
        "- We define that Indicator $C \\in \\{ 1,2,...,K \\}$ is Discrete Random Variable. \r\n",
        "\r\n",
        "<br>\r\n",
        "\r\n",
        "$$X|C \\sim g_c (x) \\tag{2.1}$$\r\n",
        "$$C \\sim p(c)  \\tag{2.2}$$\r\n",
        "\r\n",
        "<br>\r\n",
        "\r\n",
        "- where, $p(c) = Pr(C=c) = w_c$\r\n",
        "- So, we can obtain that \r\n",
        "<br>\r\n",
        "$$f(x) = \\sum_{c=1}^{K} g(x|c) p(c) = \\sum_{c=1}^{K} g_c(x) w_c $$\r\n",
        "<br>\r\n",
        "\r\n",
        "- If we know how to generate random variables from the $g_c$, hierarchical representation provide us a simple way to generate random variables from mixture.\r\n",
        "\r\n",
        "> For each observation $i$, <br>\r\n",
        "> 1) Randomly sample $c_i$ with probability given by $w_1, ..., w_k$ <br>\r\n",
        "> 2) Given the value of $c_i$ that we just sampled \r\n",
        "> <br> $$X_i \\sim g_{c_i}$$\r\n",
        "\r\n",
        "- It means that we sample X_i from the $c_i$ component of the mixture\r\n",
        "\r\n"
      ]
    },
    {
      "cell_type": "markdown",
      "metadata": {
        "id": "WCYg9jwZi-Bf"
      },
      "source": [
        "### 2.2 Graphical Representation\r\n",
        "\r\n",
        "- Graphical Representation illustrate the Hierarchical Representation as a picture.\r\n",
        "\r\n",
        "- In the below figure, grey circle is observed variable and white circle is latent variable.\r\n",
        "\r\n",
        "- Latent variable $C$ only depends on the parameter $\\tilde{w} = \\{w_1, ..., w_K \\}$\r\n",
        "\r\n",
        "- Observed variable $X$ depends on the parameter $\\tilde{\\theta} = \\{\\theta_1, ..., \\theta_K \\}$ and Latent variable $C$\r\n",
        "\r\n",
        "- Observation number is $N$\r\n",
        "\r\n",
        "\r\n",
        "\r\n"
      ]
    },
    {
      "cell_type": "markdown",
      "metadata": {
        "id": "SQU4i8nui50v"
      },
      "source": [
        "![그림1.png](data:image/png;base64,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)"
      ]
    },
    {
      "cell_type": "markdown",
      "metadata": {
        "id": "738wTSEGlxLE"
      },
      "source": [
        "### 1.1.2 Mixtures of Gaussians\r\n",
        "\r\n",
        "- 특성: "
      ]
    },
    {
      "cell_type": "code",
      "metadata": {
        "colab": {
          "base_uri": "https://localhost:8080/",
          "height": 934
        },
        "id": "0qX3oZCezMvp",
        "outputId": "b9c2d1bb-a041-4c54-9ff9-8a7b40421a05"
      },
      "source": [
        "# Bimodal\r\n",
        "\r\n",
        "N = 100\r\n",
        "sigma = 1\r\n",
        "mu = [1, 5]\r\n",
        "w = [0.4 , 0.6]\r\n",
        "\r\n",
        "plt.bar(mu, w)\r\n",
        "plt.title(r'$Q$', fontsize = 20)\r\n",
        "plt.xlabel(r'$\\mu$', fontsize = 15)\r\n",
        "plt.ylabel(r'$w$', fontsize = 15)\r\n",
        "plt.show()\r\n",
        "\r\n",
        "col = ['r', 'b']\r\n",
        "\r\n",
        "data = np.random.normal(mu[0], sigma, int(N*w[0]))\r\n",
        "latent = np.repeat(0,int(N*w[0]))\r\n",
        "sns.histplot(data, color = col[0])\r\n",
        "\r\n",
        "for j in range(1,len(w)):\r\n",
        "  input =  np.random.normal(mu[j], sigma, int(N*w[j]))\r\n",
        "  sns.histplot(input, color = col[j])\r\n",
        "  data = np.append(data, input)\r\n",
        "  latent = np.append(latent, np.repeat(j,int(N*w[j])))\r\n",
        "\r\n",
        "plt.title(r'$f(x;Q)$', fontsize = 20)\r\n",
        "plt.xlabel('$x$', fontsize = 15)\r\n",
        "plt.ylabel('count', fontsize = 15)\r\n",
        "plt.show()\r\n",
        "\r\n",
        "\r\n",
        "sns.countplot(latent, color=\"blue\")\r\n",
        "plt.title(r'$Pr[C=k]$')\r\n",
        "plt.xlabel(r'$C$')\r\n",
        "plt.show()"
      ],
      "execution_count": null,
      "outputs": [
        {
          "output_type": "display_data",
          "data": {
            "image/png": "[encoded data removed]",
            "text/plain": [
              "<Figure size 432x288 with 1 Axes>"
            ]
          },
          "metadata": {
            "tags": [],
            "needs_background": "light"
          }
        },
        {
          "output_type": "display_data",
          "data": {
            "image/png": "[encoded data removed]",
            "text/plain": [
              "<Figure size 432x288 with 1 Axes>"
            ]
          },
          "metadata": {
            "tags": [],
            "needs_background": "light"
          }
        },
        {
          "output_type": "stream",
          "text": [
            "/usr/local/lib/python3.6/dist-packages/seaborn/_decorators.py:43: FutureWarning: Pass the following variable as a keyword arg: x. From version 0.12, the only valid positional argument will be `data`, and passing other arguments without an explicit keyword will result in an error or misinterpretation.\n",
            "  FutureWarning\n"
          ],
          "name": "stderr"
        },
        {
          "output_type": "display_data",
          "data": {
            "image/png": "[encoded data removed]",
            "text/plain": [
              "<Figure size 432x288 with 1 Axes>"
            ]
          },
          "metadata": {
            "tags": [],
            "needs_background": "light"
          }
        }
      ]
    },
    {
      "cell_type": "code",
      "metadata": {
        "colab": {
          "base_uri": "https://localhost:8080/",
          "height": 1000
        },
        "id": "kB2sbhhumH9X",
        "outputId": "a92485ff-6b25-4c0d-9a5c-ebb9d585b483"
      },
      "source": [
        "# Skewed\r\n",
        "\r\n",
        "N = 1000\r\n",
        "mu = [0, 3]\r\n",
        "w = [0.55 , 0.45]\r\n",
        "sigma = [np.sqrt(2), 4]\r\n",
        "\r\n",
        "plt.bar(mu, w)\r\n",
        "plt.title(r'$Q$', fontsize = 20)\r\n",
        "plt.xlabel(r'$\\mu$', fontsize = 15)\r\n",
        "plt.ylabel(r'$w$', fontsize = 15)\r\n",
        "plt.show()\r\n",
        "\r\n",
        "col = ['r', 'b']\r\n",
        "\r\n",
        "data = np.random.normal(mu[0], sigma[0], int(N*w[0]))\r\n",
        "latent = np.repeat(0,int(N*w[0]))\r\n",
        "sns.histplot(data, color = col[0])\r\n",
        "\r\n",
        "for j in range(1,len(w)):\r\n",
        "  input =  np.random.normal(mu[j], sigma[j], int(N*w[j]))\r\n",
        "  sns.histplot(input, color = col[j])\r\n",
        "  data = np.append(data, input)\r\n",
        "  latent = np.append(latent, np.repeat(j,int(N*w[j])))\r\n",
        "\r\n",
        "plt.title(r'$f(x;Q)$', fontsize = 20)\r\n",
        "plt.xlabel('$x$', fontsize = 15)\r\n",
        "plt.ylabel('count', fontsize = 15)\r\n",
        "plt.show()\r\n",
        "\r\n",
        "sns.histplot(data, color=\"black\")\r\n",
        "plt.title(r'$f(x;Q)$')\r\n",
        "plt.xlabel(r'$x$')\r\n",
        "plt.show()\r\n",
        "\r\n",
        "sns.countplot(latent, color=\"blue\")\r\n",
        "plt.title(r'$Pr[C=k]$')\r\n",
        "plt.xlabel(r'$C$')\r\n",
        "plt.show()"
      ],
      "execution_count": null,
      "outputs": [
        {
          "output_type": "display_data",
          "data": {
            "image/png": "[encoded data removed]",
            "text/plain": [
              "<Figure size 432x288 with 1 Axes>"
            ]
          },
          "metadata": {
            "tags": [],
            "needs_background": "light"
          }
        },
        {
          "output_type": "display_data",
          "data": {
            "image/png": "[encoded data removed]",
            "text/plain": [
              "<Figure size 432x288 with 1 Axes>"
            ]
          },
          "metadata": {
            "tags": [],
            "needs_background": "light"
          }
        },
        {
          "output_type": "display_data",
          "data": {
            "image/png": "[encoded data removed]",
            "text/plain": [
              "<Figure size 432x288 with 1 Axes>"
            ]
          },
          "metadata": {
            "tags": [],
            "needs_background": "light"
          }
        },
        {
          "output_type": "stream",
          "text": [
            "/usr/local/lib/python3.6/dist-packages/seaborn/_decorators.py:43: FutureWarning: Pass the following variable as a keyword arg: x. From version 0.12, the only valid positional argument will be `data`, and passing other arguments without an explicit keyword will result in an error or misinterpretation.\n",
            "  FutureWarning\n"
          ],
          "name": "stderr"
        },
        {
          "output_type": "display_data",
          "data": {
            "image/png": "[encoded data removed]",
            "text/plain": [
              "<Figure size 432x288 with 1 Axes>"
            ]
          },
          "metadata": {
            "tags": [],
            "needs_background": "light"
          }
        }
      ]
    },
    {
      "cell_type": "code",
      "metadata": {
        "colab": {
          "base_uri": "https://localhost:8080/",
          "height": 892
        },
        "id": "TX3qXVF3lp7K",
        "outputId": "0acc762a-bdc6-47ce-9c98-c98316c36fcd"
      },
      "source": [
        "# Heavy Tailed\r\n",
        "\r\n",
        "N = 1000\r\n",
        "mu = [0, 0, 0]\r\n",
        "w = [0.4 , 0.4, 0.2]\r\n",
        "sigma = [np.sqrt(2), np.sqrt(16), np.sqrt(20)]\r\n",
        "\r\n",
        "col = ['r', 'g','b']\r\n",
        "\r\n",
        "data = np.random.normal(mu[0], sigma[0], int(N*w[0]))\r\n",
        "latent = np.repeat(0,int(N*w[0]))\r\n",
        "sns.histplot(data, color = col[0])\r\n",
        "\r\n",
        "for j in range(1,len(w)):\r\n",
        "  input =  np.random.normal(mu[j], sigma[j], int(N*w[j]))\r\n",
        "  sns.histplot(input, color = col[j])\r\n",
        "  data = np.append(data, input)\r\n",
        "  latent = np.append(latent, np.repeat(j,int(N*w[j])))\r\n",
        "\r\n",
        "plt.title(r'$f(x;Q)$', fontsize = 20)\r\n",
        "plt.xlabel('$x$', fontsize = 15)\r\n",
        "plt.ylabel('count', fontsize = 15)\r\n",
        "plt.show()\r\n",
        "\r\n",
        "s = np.sqrt(0.4*2 + 0.4*16 + 0.2 * 20)\r\n",
        "xx = np.linspace(-12, 12, 1000)\r\n",
        "yy1 = scipy.stats.norm(loc= mu[0], scale=s).pdf(xx) \r\n",
        "yy2 = w[0]*scipy.stats.norm(loc= mu[0], scale=sigma[0]).pdf(xx)+w[1]*scipy.stats.norm(loc= mu[1], scale=sigma[1]).pdf(xx)+w[2]*scipy.stats.norm(loc= mu[2], scale=sigma[2]).pdf(xx) \r\n",
        "plt.plot(xx,yy1, linestyle=\"--\", c = \"black\")\r\n",
        "plt.plot(xx,yy2, c = \"black\")\r\n",
        "plt.show()\r\n",
        "\r\n",
        "\r\n",
        "sns.countplot(latent, color=\"blue\")\r\n",
        "plt.title(r'$Pr[C=k]$')\r\n",
        "plt.xlabel(r'$C$')\r\n",
        "plt.show()"
      ],
      "execution_count": null,
      "outputs": [
        {
          "output_type": "display_data",
          "data": {
            "image/png": "[encoded data removed]",
            "text/plain": [
              "<Figure size 432x288 with 1 Axes>"
            ]
          },
          "metadata": {
            "tags": [],
            "needs_background": "light"
          }
        },
        {
          "output_type": "display_data",
          "data": {
            "image/png": "[encoded data removed]",
            "text/plain": [
              "<Figure size 432x288 with 1 Axes>"
            ]
          },
          "metadata": {
            "tags": [],
            "needs_background": "light"
          }
        },
        {
          "output_type": "stream",
          "text": [
            "/usr/local/lib/python3.6/dist-packages/seaborn/_decorators.py:43: FutureWarning: Pass the following variable as a keyword arg: x. From version 0.12, the only valid positional argument will be `data`, and passing other arguments without an explicit keyword will result in an error or misinterpretation.\n",
            "  FutureWarning\n"
          ],
          "name": "stderr"
        },
        {
          "output_type": "display_data",
          "data": {
            "image/png": "[encoded data removed]",
            "text/plain": [
              "<Figure size 432x288 with 1 Axes>"
            ]
          },
          "metadata": {
            "tags": [],
            "needs_background": "light"
          }
        }
      ]
    },
    {
      "cell_type": "markdown",
      "metadata": {
        "id": "YU_VAFRyb_ir"
      },
      "source": [
        "- _The likelihood on a observation_\r\n",
        "\r\n",
        "<br>\r\n",
        "\r\n",
        "$$ L_i  (Q) = \\int f_i(x_i ; \\phi) dQ(\\phi) = \\int f_i (x_i  ; \\phi) q(\\phi) d\\phi $$\r\n",
        "<br>\r\n",
        "<center> likelihood kernel function </center>\r\n",
        "$$ L_i (\\phi) = f_i(x_i ; \\phi) $$ \r\n",
        "\r\n",
        "<br>\r\n",
        "$$ L(Q) = \\prod_{i=1}^{n} L_i (Q) $$\r\n",
        "$$ l(Q) = ln(L(Q)) = \\sum ln(L_i (Q)) $$\r\n",
        "\r\n",
        "<br>\r\n",
        "\r\n",
        "- _Assumption_\r\n",
        "\r\n",
        "1) There are a fixed and known number of components, so that the unknown paramters are the $\\pi's$ and $\\phi's$\r\n",
        "\r\n",
        "2) The distribution $Q$ is from some known parametric family of distributions, say $q(\\phi; \\gamma)$ , typically chosen to be either the normal denstiy with unknown mean and variance or the conjugate family of distributions to the density $f$\r\n",
        "\r\n",
        "\r\n",
        "\r\n"
      ]
    },
    {
      "cell_type": "code",
      "metadata": {
        "id": "T1X7pF8_fehG"
      },
      "source": [
        "import scipy.stats as stats"
      ],
      "execution_count": null,
      "outputs": []
    },
    {
      "cell_type": "code",
      "metadata": {
        "colab": {
          "base_uri": "https://localhost:8080/",
          "height": 328
        },
        "id": "vUICeGJQcCSQ",
        "outputId": "7d3fe018-2ddb-4131-a719-bd882a99b56b"
      },
      "source": [
        "xi = np.arange(0,10,0.01)\r\n",
        "pi = np.arange(0,1,0.01)\r\n",
        "def likelihood_kernel(data, xi):\r\n",
        "  dist = stats.norm(xi,1)\r\n",
        "  out = dist.pdf(data)\r\n",
        "  return out\r\n",
        "\r\n",
        "p = likelihood_kernel(3, xi)\r\n",
        "plt.plot(xi,p)\r\n",
        "plt.xlabel(r'$\\phi$', fontsize = 15)\r\n",
        "plt.title(r'$L_i(\\phi)$', fontsize = 20)\r\n",
        "plt.show()\r\n",
        "\r\n",
        "xi = [1, 5]\r\n",
        "pi = [0.6, 0.4]\r\n",
        "\r\n",
        "N = 100\r\n",
        "sigma = 1\r\n",
        "\r\n",
        "data = np.random.normal(xi[0], sigma, int(N*pi[0]))\r\n",
        "latent = np.repeat(0,int(N*pi[0]))\r\n",
        "\r\n",
        "for j in range(1,len(pi)):\r\n",
        "  input =  np.random.normal(xi[j], sigma, int(N*pi[j]))\r\n",
        "  data = np.append(data, input)\r\n",
        "  latent = np.append(latent, np.repeat(j,int(N*pi[j])))\r\n",
        "\r\n",
        "def likelihood(data, xi, pi, g):\r\n",
        "  L = 0\r\n",
        "  for j in range(0, g):\r\n",
        "    L += pi[j] * likelihood_kernel(data[0],xi[j])\r\n",
        "  l = np.log(L)\r\n",
        "\r\n",
        "  for i in range(1, data.shape[0]):\r\n",
        "    Li = 0\r\n",
        "    for j in range(0, g):\r\n",
        "      Li += pi[j] * likelihood_kernel(data[i],xi[j])\r\n",
        "    li = np.log(Li)\r\n",
        "\r\n",
        "    l += li\r\n",
        "  return l\r\n",
        "\r\n",
        "likelihood(data, xi, pi, 2)"
      ],
      "execution_count": null,
      "outputs": [
        {
          "output_type": "display_data",
          "data": {
            "image/png": "[encoded data removed]",
            "text/plain": [
              "<Figure size 432x288 with 1 Axes>"
            ]
          },
          "metadata": {
            "tags": []
          }
        },
        {
          "output_type": "execute_result",
          "data": {
            "text/plain": [
              "-199.13822369375742"
            ]
          },
          "metadata": {
            "tags": []
          },
          "execution_count": 8
        }
      ]
    },
    {
      "cell_type": "markdown",
      "metadata": {
        "id": "ufpUlnoYR_dy"
      },
      "source": [
        "\r\n",
        "\r\n",
        "<br>\r\n",
        "\r\n",
        "- _Linear Inverse Problem_\r\n",
        "\r\n",
        "$$ f(x;Q) = \\int f(x;\\phi) dQ(\\phi)$$ \r\n",
        "<center> \r\n",
        "\r\n",
        "subject to \r\n",
        "\r\n",
        "$$ \\sum \\pi_j = 1  $$\r\n",
        "\r\n",
        "$$ \\pi_j >= 0 $$\r\n",
        "\r\n",
        " 1) The linear inverse problem is difficult and unstable to solve.\r\n",
        "\r\n",
        " 2) One of the key points is that Expectation-Maximization Algorithm\r\n",
        " \r\n",
        " </center>\r\n",
        "\r\n",
        "- _Empirical and Hierarchical Bayes_\r\n",
        "\r\n",
        "$$E[\\Phi | X =x] = \\int \\phi \\cdot p(\\phi|X=x) = \\int \\phi \\cdot \\frac{f(x;\\phi) \\cdot q(\\phi) }{ \\int f(x;\\phi) dQ(\\phi)} = \\frac{\\int \\phi f(x;\\phi) dQ(\\phi)}{\\int f(x;\\phi) dQ(\\phi)}$$\r\n",
        "\r\n",
        "<br>\r\n",
        "<center>\r\n",
        "\r\n",
        "1) Since $Q$ is unknown, one natural tactic is to replace the $Q$ in the above formula with an estimate, either parametric or nonparametric : see the book by Maritz and Lwin(1989)\r\n",
        "\r\n",
        "2) One important aspect of empirical Bayes methods is that it has been learned that these methods have advantages in estimating a set of paramters $\\xi_1 , \\xi_2 ,..., \\xi_m $\r\n",
        "\r\n",
        "</center>\r\n"
      ]
    },
    {
      "cell_type": "code",
      "metadata": {
        "id": "CCzqvcIJNgJR"
      },
      "source": [
        "\r\n"
      ],
      "execution_count": null,
      "outputs": []
    },
    {
      "cell_type": "markdown",
      "metadata": {
        "id": "JmO9iw63bFqy"
      },
      "source": [
        ""
      ]
    }
  ]
}